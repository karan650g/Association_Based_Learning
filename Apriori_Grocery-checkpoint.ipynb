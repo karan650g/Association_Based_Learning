{
 "cells": [
  {
   "cell_type": "code",
   "execution_count": 1,
   "metadata": {},
   "outputs": [
    {
     "data": {
      "text/plain": [
       "[RelationRecord(items=frozenset({'COCK', 'COFFEE'}), support=0.15, ordered_statistics=[OrderedStatistic(items_base=frozenset({'COCK'}), items_add=frozenset({'COFFEE'}), confidence=1.0, lift=2.5)]),\n",
       " RelationRecord(items=frozenset({'TEA', 'MAGGI'}), support=0.2, ordered_statistics=[OrderedStatistic(items_base=frozenset({'MAGGI'}), items_add=frozenset({'TEA'}), confidence=0.8, lift=2.285714285714286), OrderedStatistic(items_base=frozenset({'TEA'}), items_add=frozenset({'MAGGI'}), confidence=0.5714285714285715, lift=2.285714285714286)])]"
      ]
     },
     "execution_count": 1,
     "metadata": {},
     "output_type": "execute_result"
    }
   ],
   "source": [
    "import numpy as np\n",
    "import matplotlib.pyplot as plt\n",
    "import pandas as pd\n",
    "dataset = pd.read_csv('GroceryStoreDataSet.csv',names=['trans'],header=None)\n",
    "trans=[]\n",
    "for i in range(len(dataset)):\n",
    "    trans.append(str(dataset['trans'][i]).split(','))\n",
    "from apyori import apriori\n",
    "rules = apriori(trans,min_support = 0.15,min_confidence = 0.5 ,min_lift = 2 , min_length = 3)\n",
    "result = list(rules)\n",
    "result"
   ]
  },
  {
   "cell_type": "code",
   "execution_count": null,
   "metadata": {},
   "outputs": [],
   "source": []
  },
  {
   "cell_type": "code",
   "execution_count": null,
   "metadata": {},
   "outputs": [],
   "source": []
  },
  {
   "cell_type": "code",
   "execution_count": null,
   "metadata": {},
   "outputs": [],
   "source": []
  },
  {
   "cell_type": "code",
   "execution_count": null,
   "metadata": {},
   "outputs": [],
   "source": []
  },
  {
   "cell_type": "code",
   "execution_count": null,
   "metadata": {},
   "outputs": [],
   "source": []
  },
  {
   "cell_type": "code",
   "execution_count": null,
   "metadata": {},
   "outputs": [],
   "source": []
  },
  {
   "cell_type": "code",
   "execution_count": null,
   "metadata": {},
   "outputs": [],
   "source": []
  }
 ],
 "metadata": {
  "kernelspec": {
   "display_name": "Python 3",
   "language": "python",
   "name": "python3"
  },
  "language_info": {
   "codemirror_mode": {
    "name": "ipython",
    "version": 3
   },
   "file_extension": ".py",
   "mimetype": "text/x-python",
   "name": "python",
   "nbconvert_exporter": "python",
   "pygments_lexer": "ipython3",
   "version": "3.7.6"
  }
 },
 "nbformat": 4,
 "nbformat_minor": 4
}
